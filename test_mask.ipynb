{
 "cells": [
  {
   "cell_type": "code",
   "execution_count": 5,
   "id": "expressed-grounds",
   "metadata": {},
   "outputs": [],
   "source": [
    "import tess_ffi_mask as ffimask\n",
    "%matplotlib notebook\n",
    "import numpy as np\n",
    "import matplotlib.pyplot as plt"
   ]
  },
  {
   "cell_type": "code",
   "execution_count": 4,
   "id": "honest-chick",
   "metadata": {},
   "outputs": [
    {
     "name": "stdout",
     "output_type": "stream",
     "text": [
      "makefits shape  (2078, 2136)\n"
     ]
    }
   ],
   "source": [
    "file = '/Users/rridden/Documents/work/data/tess/pipe/test/s0023_58939.901_0591_3.sw.fits'\n",
    "save = 's23_cam1_ccd3_mask.fits'\n",
    "ffimask.TESS_source_mask(file,save)"
   ]
  },
  {
   "cell_type": "code",
   "execution_count": 3,
   "id": "compressed-inspiration",
   "metadata": {},
   "outputs": [],
   "source": [
    "! open ."
   ]
  },
  {
   "cell_type": "code",
   "execution_count": null,
   "id": "minus-marking",
   "metadata": {},
   "outputs": [],
   "source": []
  }
 ],
 "metadata": {
  "kernelspec": {
   "display_name": "Python 3",
   "language": "python",
   "name": "python3"
  },
  "language_info": {
   "codemirror_mode": {
    "name": "ipython",
    "version": 3
   },
   "file_extension": ".py",
   "mimetype": "text/x-python",
   "name": "python",
   "nbconvert_exporter": "python",
   "pygments_lexer": "ipython3",
   "version": "3.7.7"
  }
 },
 "nbformat": 4,
 "nbformat_minor": 5
}
