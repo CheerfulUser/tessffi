{
 "cells": [
  {
   "cell_type": "code",
   "execution_count": 1,
   "id": "fifty-measurement",
   "metadata": {},
   "outputs": [],
   "source": [
    "import sys\n",
    "sys.path.append('../../../sourcemasker/dev/')\n",
    "from casjob_query import CASjobs_sources\n",
    "from astropy.io import fits"
   ]
  },
  {
   "cell_type": "code",
   "execution_count": 2,
   "id": "athletic-particular",
   "metadata": {},
   "outputs": [],
   "source": [
    "hdu = fits.open('./tess2020107115919-s0024-1-3-0180-s_ffic.fits')[1]"
   ]
  },
  {
   "cell_type": "code",
   "execution_count": 3,
   "id": "functional-element",
   "metadata": {},
   "outputs": [],
   "source": [
    "s24ps1 = CASjobs_sources(info=hdu.header,context='ps1',maglim=19)\n",
    "s24gaia = CASjobs_sources(info=hdu.header,context='gaia',maglim=14)"
   ]
  },
  {
   "cell_type": "code",
   "execution_count": 4,
   "id": "hairy-thanksgiving",
   "metadata": {},
   "outputs": [
    {
     "name": "stdout",
     "output_type": "stream",
     "text": [
      "Making output request for CSV-format data\n",
      "loading existing table\n",
      "(5, 'finished')\n"
     ]
    }
   ],
   "source": [
    "s24ps1.get_table(save='s24_13_footprint',reset=False)\n",
    "s24gaia.get_table(save='s24_13_footprint')"
   ]
  },
  {
   "cell_type": "code",
   "execution_count": 5,
   "id": "entitled-brass",
   "metadata": {},
   "outputs": [
    {
     "name": "stdout",
     "output_type": "stream",
     "text": [
      "(5, 'finished')\n",
      "Making output request for CSV-format data\n",
      "(5, 'finished')\n"
     ]
    }
   ],
   "source": [
    "hdu = fits.open('./tess2020077202920-s0022-1-3-0174-s_ffic.fits')[1]\n",
    "s24ps1 = CASjobs_sources(info=hdu.header,context='ps1',maglim=19)\n",
    "s24gaia = CASjobs_sources(info=hdu.header,context='gaia',maglim=14)\n",
    "s24ps1.get_table(save='s22_13_footprint',reset=False)\n",
    "s24gaia.get_table(save='s22_13_footprint')"
   ]
  },
  {
   "cell_type": "code",
   "execution_count": null,
   "id": "stylish-george",
   "metadata": {},
   "outputs": [],
   "source": []
  }
 ],
 "metadata": {
  "kernelspec": {
   "display_name": "Python 3",
   "language": "python",
   "name": "python3"
  },
  "language_info": {
   "codemirror_mode": {
    "name": "ipython",
    "version": 3
   },
   "file_extension": ".py",
   "mimetype": "text/x-python",
   "name": "python",
   "nbconvert_exporter": "python",
   "pygments_lexer": "ipython3",
   "version": "3.7.7"
  }
 },
 "nbformat": 4,
 "nbformat_minor": 5
}
